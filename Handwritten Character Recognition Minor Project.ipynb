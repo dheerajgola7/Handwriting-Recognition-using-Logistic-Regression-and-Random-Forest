{
 "cells": [
  {
   "cell_type": "markdown",
   "id": "d6978c56",
   "metadata": {},
   "source": [
    "#           HANDWRITTEN CHARACTER RECOGNITION PROJECT"
   ]
  },
  {
   "cell_type": "markdown",
   "id": "1833a439",
   "metadata": {},
   "source": [
    "## Importing libraries"
   ]
  },
  {
   "cell_type": "code",
   "execution_count": null,
   "id": "a05d8935",
   "metadata": {},
   "outputs": [],
   "source": [
    "import numpy as np\n",
    "import pandas as pd\n",
    "import matplotlib.pyplot as plt\n",
    "from sklearn.model_selection import train_test_split\n",
    "from sklearn.metrics import accuracy_score"
   ]
  },
  {
   "cell_type": "markdown",
   "id": "77b7a052",
   "metadata": {},
   "source": [
    "## Creating Dataset"
   ]
  },
  {
   "cell_type": "code",
   "execution_count": null,
   "id": "131b30d5",
   "metadata": {},
   "outputs": [],
   "source": [
    "# Dictionary for defining characters into numeric labels as machine can work on numeric data\n",
    "classes = {}\n",
    "\n",
    "# Adding digits to classes with their respective labels\n",
    "for i in range(48, 58):\n",
    "    classes[chr(i)] = i-48\n",
    "    \n",
    "# Adding Upper Case English Alphabets to classes with their respective labels\n",
    "for i in range(65, 91):\n",
    "    classes[chr(i)] = i-55\n",
    "\n",
    "# Adding Lower Case English Alphabets to classes with their respective labels\n",
    "for i in range(97, 123):\n",
    "    classes[chr(i)] = i-61\n",
    "\n",
    "# Printing all labels with their respective character\n",
    "print(classes)"
   ]
  },
  {
   "cell_type": "code",
   "execution_count": null,
   "id": "c161fabe",
   "metadata": {},
   "outputs": [],
   "source": [
    "# Importing os library for storing accessing directory of dataset images\n",
    "import os\n",
    "\n",
    "# Image dataset folder path\n",
    "path = 'D:/Minor Project/Dataset/Characters'\n",
    "\n",
    "# Storing dataset images name in images list\n",
    "characters = os.listdir(path)"
   ]
  },
  {
   "cell_type": "code",
   "execution_count": null,
   "id": "03ddc091",
   "metadata": {},
   "outputs": [],
   "source": [
    "# Importing cv2 for reading pixel values of images\n",
    "import cv2\n",
    "\n",
    "#Defining lists for storing\n",
    "\n",
    "# list CH for storing array of character image pixel values\n",
    "CH = []\n",
    "# list LABEL for storing target label for their corresponding image values\n",
    "LABEL = []\n",
    "\n",
    "# Loop for every image in images list\n",
    "for file in characters:\n",
    "    images = os.listdir(path+'/'+file+'/')\n",
    "    for img in images:\n",
    "        # Adding array of image pixel values after resizing resolution as height 32 * width 32\n",
    "        CH.append(cv2.resize(cv2.imread(path+'/'+file+'/'+img, 0), (32, 32)))\n",
    "        # Adding respective label for images\n",
    "        LABEL.append(classes[chr(int(file))])"
   ]
  },
  {
   "cell_type": "markdown",
   "id": "cf35b54d",
   "metadata": {},
   "source": [
    "Dataset CREATED!"
   ]
  },
  {
   "cell_type": "code",
   "execution_count": null,
   "id": "707184dc",
   "metadata": {},
   "outputs": [],
   "source": [
    "# Checking no. of images for every character\n",
    "charImages = pd.Series(LABEL).value_counts()"
   ]
  },
  {
   "cell_type": "code",
   "execution_count": null,
   "id": "57635ab6",
   "metadata": {},
   "outputs": [],
   "source": [
    "print(charImages)"
   ]
  },
  {
   "cell_type": "code",
   "execution_count": null,
   "id": "85a8c402",
   "metadata": {},
   "outputs": [],
   "source": [
    "#LABELDATA = pd.DataFrame(LABEL).replace([0,1,2,3,4,5,6,7,8,9,10,11,12,13,14,15,16,17,18,19,20,21,22,23,24,25,26,27,28,29,30,31,32,33,34,35,36,37,38,39,40,41,42,43,44,45,46,47,48,49,50,51,52,53,54,55,56,57,58,59,60,61],['0','1','2','3','4','5','6','7','8','9','A','B','C','D','E','F','G','H','I','J','K','L','M','N','O','P','Q','R','S','T','U','V','W','X','Y','Z','a','b','c','d','e','f','g','h','i','j','k','l','m','n','o','p','q','r','s','t','u','v','w','x','y','z'])"
   ]
  },
  {
   "cell_type": "code",
   "execution_count": null,
   "id": "d9cab8a1",
   "metadata": {},
   "outputs": [],
   "source": [
    "# Checking size of character images\n",
    "CH[0].shape"
   ]
  },
  {
   "cell_type": "markdown",
   "id": "7f88346a",
   "metadata": {},
   "source": [
    "We have images of size 32*32 pixels"
   ]
  },
  {
   "cell_type": "code",
   "execution_count": null,
   "id": "a729b85c",
   "metadata": {},
   "outputs": [],
   "source": [
    "# Converting python lists to numpy arrays for better usage\n",
    "CH = np.array(CH)\n",
    "ORIGINAL = CH\n",
    "LABEL = np.array(LABEL)"
   ]
  },
  {
   "cell_type": "markdown",
   "id": "d4b3dac8",
   "metadata": {},
   "source": [
    "Lets check a sample with its label."
   ]
  },
  {
   "cell_type": "code",
   "execution_count": null,
   "id": "418d2870",
   "metadata": {},
   "outputs": [],
   "source": [
    "plt.imshow(CH[111], cmap='gray')\n",
    "print('Label : ', LABEL[111])"
   ]
  },
  {
   "cell_type": "markdown",
   "id": "77f8dae9",
   "metadata": {},
   "source": [
    "## Preparing Data"
   ]
  },
  {
   "cell_type": "code",
   "execution_count": null,
   "id": "ec470ae2",
   "metadata": {},
   "outputs": [],
   "source": [
    "# Checking shape of CH array\n",
    "print('Shape of CH array : ', CH.shape)"
   ]
  },
  {
   "cell_type": "markdown",
   "id": "c34ef804",
   "metadata": {},
   "source": [
    "Size of our character array is 3-dimensional.\n",
    "But ML models work on two-dimensional data.\n",
    "So lets reduce array size to 2-dimensional."
   ]
  },
  {
   "cell_type": "code",
   "execution_count": null,
   "id": "6cba252e",
   "metadata": {},
   "outputs": [],
   "source": [
    "# Converting 3D array to 2D array\n",
    "CH = CH.reshape(len(CH),-1)"
   ]
  },
  {
   "cell_type": "code",
   "execution_count": null,
   "id": "6636e621",
   "metadata": {},
   "outputs": [],
   "source": [
    "# Again checking shape of CH array\n",
    "print('Shape of CH array : ', CH.shape)"
   ]
  },
  {
   "cell_type": "markdown",
   "id": "610fb5df",
   "metadata": {},
   "source": [
    "Now it is 2D."
   ]
  },
  {
   "cell_type": "markdown",
   "id": "b85b23ac",
   "metadata": {},
   "source": [
    "## Splitting data into training and testing"
   ]
  },
  {
   "cell_type": "code",
   "execution_count": null,
   "id": "1ebc750d",
   "metadata": {},
   "outputs": [],
   "source": [
    "chtrain, chtest, labeltrain, labeltest = train_test_split(CH, LABEL, test_size = 0.3, random_state = 10)"
   ]
  },
  {
   "cell_type": "code",
   "execution_count": null,
   "id": "7fa8fdba",
   "metadata": {},
   "outputs": [],
   "source": [
    "# SHAPE OF TRAINING AND TESTING DATA\n",
    "print('Training Data Shape : ', '\\n\\tCharacter Array Shape : ', chtrain.shape, '\\n\\tLabel Array Shape :\\t', labeltrain.shape)\n",
    "print()\n",
    "print('Testing Data Shape : ', '\\n\\tCharacter Array Shape : ', chtest.shape, '\\n\\tLabel Array Shape :\\t', labeltest.shape)"
   ]
  },
  {
   "cell_type": "markdown",
   "id": "7ffba470",
   "metadata": {},
   "source": [
    "## Feature Scaling"
   ]
  },
  {
   "cell_type": "code",
   "execution_count": null,
   "id": "63c90768",
   "metadata": {},
   "outputs": [],
   "source": [
    "# Finding maximum value in character data\n",
    "print(chtrain.max())"
   ]
  },
  {
   "cell_type": "code",
   "execution_count": null,
   "id": "a4ae2547",
   "metadata": {},
   "outputs": [],
   "source": [
    "# Scaling data according to maximum value\n",
    "chtrain = chtrain/255\n",
    "chtest = chtest/255"
   ]
  },
  {
   "cell_type": "code",
   "execution_count": null,
   "id": "32fb9cdf",
   "metadata": {},
   "outputs": [],
   "source": [
    "# Now checking maximum value\n",
    "print(chtrain.max())"
   ]
  },
  {
   "cell_type": "markdown",
   "id": "87410048",
   "metadata": {},
   "source": [
    "As we can see, image pixel values have reduced to maximum value 1. Since values are divided therefore values have converted to float."
   ]
  },
  {
   "cell_type": "markdown",
   "id": "4f4aacad",
   "metadata": {},
   "source": [
    "## Feature Selection using PCA (Principal Component Analysis)"
   ]
  },
  {
   "cell_type": "code",
   "execution_count": null,
   "id": "1348dd34",
   "metadata": {},
   "outputs": [],
   "source": [
    "# Importing PCA from sci-kit learn library\n",
    "from sklearn.decomposition import PCA"
   ]
  },
  {
   "cell_type": "code",
   "execution_count": null,
   "id": "421fc6c8",
   "metadata": {},
   "outputs": [],
   "source": [
    "# Shape of image data before applying PCA\n",
    "print('Image Training Data Shape :\\t', chtrain.shape)\n",
    "print('Image Testing Data Shape :\\t', chtest.shape)"
   ]
  },
  {
   "cell_type": "code",
   "execution_count": null,
   "id": "e86a4450",
   "metadata": {},
   "outputs": [],
   "source": [
    "# Defining PCA for 96% details\n",
    "pca = PCA(0.96)\n",
    "\n",
    "# Transforming data according to PCA\n",
    "# fit_transform for learning parameters from training data and transforming training data accordingly\n",
    "# combination of fit() and transform()\n",
    "chtrain = pca.fit_transform(chtrain)\n",
    "# transforming testing data according to parameters learned from training data\n",
    "chtest = pca.transform(chtest)"
   ]
  },
  {
   "cell_type": "code",
   "execution_count": null,
   "id": "cd15a86b",
   "metadata": {},
   "outputs": [],
   "source": [
    "# Lets check pca components and features\n",
    "print('PCA Components :', pca.n_components)\n",
    "print('PCA Features :\\t', pca.n_features_)"
   ]
  },
  {
   "cell_type": "code",
   "execution_count": null,
   "id": "8f4dd31d",
   "metadata": {},
   "outputs": [],
   "source": [
    "# Shape of image data after applying PCA\n",
    "print('Image Training Data Shape :\\t', chtrain.shape)\n",
    "print('Image Testing Data Shape :\\t', chtest.shape)"
   ]
  },
  {
   "cell_type": "markdown",
   "id": "3223a3a7",
   "metadata": {},
   "source": [
    "## Decoding Class"
   ]
  },
  {
   "cell_type": "code",
   "execution_count": null,
   "id": "b74e95cb",
   "metadata": {
    "scrolled": true
   },
   "outputs": [],
   "source": [
    "# Dictionary for defining characters into numeric labels as machine can work on numeric data\n",
    "decode = {}\n",
    "\n",
    "# Adding digits to classes with their respective labels\n",
    "for i in range(48, 58):\n",
    "    decode[i-48] = chr(i)\n",
    "    \n",
    "# Adding Upper Case English Alphabets to classes with their respective labels\n",
    "for i in range(65, 91):\n",
    "    decode[i-55] = chr(i)\n",
    "\n",
    "# Adding Lower Case English Alphabets to classes with their respective labels\n",
    "for i in range(97, 123):\n",
    "    decode[i-61] = chr(i)\n",
    "\n",
    "# Printing all labels with their respective character\n",
    "print(decode)"
   ]
  },
  {
   "cell_type": "markdown",
   "id": "51a40408",
   "metadata": {},
   "source": [
    "## Copying and Merging training and testing data for calculating overall accuracy"
   ]
  },
  {
   "cell_type": "code",
   "execution_count": null,
   "id": "41a35d61",
   "metadata": {},
   "outputs": [],
   "source": [
    "chardata = np.concatenate((chtrain, chtest))\n",
    "labeldata = np.concatenate((labeltrain, labeltest))"
   ]
  },
  {
   "cell_type": "markdown",
   "id": "2ecf9599",
   "metadata": {},
   "source": [
    "# APPLYING MODELS"
   ]
  },
  {
   "cell_type": "code",
   "execution_count": null,
   "id": "c8619f9f",
   "metadata": {},
   "outputs": [],
   "source": [
    "import joblib"
   ]
  },
  {
   "cell_type": "markdown",
   "id": "9dab3f69",
   "metadata": {},
   "source": [
    "## 1. Logistic Regression"
   ]
  },
  {
   "cell_type": "code",
   "execution_count": null,
   "id": "7dbe758e",
   "metadata": {},
   "outputs": [],
   "source": [
    "# Importing Logistic Regression Model\n",
    "from sklearn.linear_model import LogisticRegression"
   ]
  },
  {
   "cell_type": "markdown",
   "id": "90a2efe5",
   "metadata": {},
   "source": [
    "### i. Fitting Model"
   ]
  },
  {
   "cell_type": "code",
   "execution_count": null,
   "id": "12dbad52",
   "metadata": {},
   "outputs": [],
   "source": [
    "# Creating an object of model\n",
    "#log_model = LogisticRegression(solver='saga', max_iter=5000)\n",
    "log_model = joblib.load('Log_model.joblib')\n",
    "\n",
    "# Fitting model on training data\n",
    "#log_model.fit(chtrain, labeltrain)"
   ]
  },
  {
   "cell_type": "markdown",
   "id": "1432ea4c",
   "metadata": {},
   "source": [
    "### ii. Predicting data"
   ]
  },
  {
   "cell_type": "code",
   "execution_count": null,
   "id": "683a263e",
   "metadata": {},
   "outputs": [],
   "source": [
    "# Predicting training data\n",
    "labeltrain_pred = log_model.predict(chtrain)\n",
    "\n",
    "# Predicting testing data\n",
    "labeltest_pred = log_model.predict(chtest)"
   ]
  },
  {
   "cell_type": "markdown",
   "id": "c4185093",
   "metadata": {},
   "source": [
    "### iii. Evaluation"
   ]
  },
  {
   "cell_type": "code",
   "execution_count": null,
   "id": "5f6f1a77",
   "metadata": {},
   "outputs": [],
   "source": [
    "# Evaluating Training Accuracy\n",
    "print('Training Accuracy =\\t', accuracy_score(labeltrain, labeltrain_pred))\n",
    "\n",
    "# Evaluating Testing Accuracy\n",
    "print('Testing Accuracy =\\t', accuracy_score(labeltest, labeltest_pred))"
   ]
  },
  {
   "cell_type": "markdown",
   "id": "6a5d463c",
   "metadata": {},
   "source": [
    "## 2. Random Forest"
   ]
  },
  {
   "cell_type": "code",
   "execution_count": null,
   "id": "a801df93",
   "metadata": {},
   "outputs": [],
   "source": [
    "# Importing Random Forest Model\n",
    "from sklearn.ensemble import RandomForestClassifier"
   ]
  },
  {
   "cell_type": "markdown",
   "id": "3785d60c",
   "metadata": {},
   "source": [
    "### i. Fitting Model"
   ]
  },
  {
   "cell_type": "code",
   "execution_count": null,
   "id": "ded5c88a",
   "metadata": {},
   "outputs": [],
   "source": [
    "random_forest = RandomForestClassifier(n_estimators=60, random_state=42)\n",
    "random_forest.fit(chtrain, labeltrain)"
   ]
  },
  {
   "cell_type": "markdown",
   "id": "e51d5df4",
   "metadata": {},
   "source": [
    "### ii. Predicting data"
   ]
  },
  {
   "cell_type": "code",
   "execution_count": null,
   "id": "af9d0deb",
   "metadata": {},
   "outputs": [],
   "source": [
    "# Predicting training data\n",
    "labeltrainpred = random_forest.predict(chtrain)\n",
    "\n",
    "# Predicting testing data\n",
    "labeltestpred = random_forest.predict(chtest)"
   ]
  },
  {
   "cell_type": "markdown",
   "id": "08c37a75",
   "metadata": {},
   "source": [
    "### iii. Evaluation"
   ]
  },
  {
   "cell_type": "code",
   "execution_count": null,
   "id": "00c2fa4d",
   "metadata": {},
   "outputs": [],
   "source": [
    "# Evaluating Training Accuracy\n",
    "print('Random Forest Training Accuracy Score:\\t',random_forest.score(chtrain, labeltrain))\n",
    "\n",
    "# Evaluating Testing Accuracy\n",
    "print('Random Forest Testing Accuracy Score:\\t',random_forest.score(chtest, labeltest))"
   ]
  },
  {
   "cell_type": "markdown",
   "id": "b38aa68b",
   "metadata": {},
   "source": [
    "# MODELS COMPARISON"
   ]
  },
  {
   "cell_type": "code",
   "execution_count": null,
   "id": "7c48f1e3",
   "metadata": {},
   "outputs": [],
   "source": [
    "# Evaluating Logistic Regression Accuracy\n",
    "print('Logistic Regression Overall Accuracy =\\t', log_model.score(chardata, labeldata))\n",
    "\n",
    "# Evaluating Random Forest Accuracy\n",
    "print('Random Forest Overall Accuracy =\\t', random_forest.score(chardata, labeldata))"
   ]
  },
  {
   "cell_type": "markdown",
   "id": "7ffb6902",
   "metadata": {},
   "source": [
    "Here, we can clearly see that RANDOM FOREST is far BETTER than LOGISTIC REGRESSION.\n",
    "Because we have 62 classes which can be better handled using RANDOM FOREST."
   ]
  },
  {
   "cell_type": "markdown",
   "id": "d111084c",
   "metadata": {},
   "source": [
    "# PREDICT LABEL OF TEST IMAGES USING MODEL"
   ]
  },
  {
   "cell_type": "code",
   "execution_count": null,
   "id": "8bd8bf90",
   "metadata": {},
   "outputs": [],
   "source": [
    "plt.rcParams['figure.figsize'] = [2, 2]"
   ]
  },
  {
   "cell_type": "code",
   "execution_count": null,
   "id": "e12a3817",
   "metadata": {},
   "outputs": [],
   "source": [
    "os.listdir('D:/Minor Project/Dataset/Test')"
   ]
  },
  {
   "cell_type": "code",
   "execution_count": null,
   "id": "fac05edf",
   "metadata": {},
   "outputs": [],
   "source": [
    "testimage = cv2.resize(cv2.imread('D:/Minor Project/Dataset/Test/img001-054.png', 0), (32, 32))\n",
    "testSample = pca.transform([(testimage/255).flatten()])\n",
    "plt.title('Predicted : '+decode[int(random_forest.predict(testSample))]+'\\nActual : 0')\n",
    "plt.imshow(testimage, cmap='gray')"
   ]
  },
  {
   "cell_type": "code",
   "execution_count": null,
   "id": "5e27d218",
   "metadata": {},
   "outputs": [],
   "source": [
    "testimage = cv2.resize(cv2.imread('D:/Minor Project/Dataset/Test/img004-041.png', 0), (32, 32))\n",
    "testSample = pca.transform([(testimage/255).flatten()])\n",
    "plt.title('Predicted : '+decode[int(random_forest.predict(testSample))]+'\\nActual : 3')\n",
    "plt.imshow(testimage, cmap='gray')"
   ]
  },
  {
   "cell_type": "code",
   "execution_count": null,
   "id": "ac3d350c",
   "metadata": {},
   "outputs": [],
   "source": [
    "testimage = cv2.resize(cv2.imread('D:/Minor Project/Dataset/Test/img008-048.png', 0), (32, 32))\n",
    "testSample = pca.transform([(testimage/255).flatten()])\n",
    "plt.title('Predicted : '+decode[int(random_forest.predict(testSample))]+'\\nActual : 7')\n",
    "plt.imshow(testimage, cmap='gray')"
   ]
  },
  {
   "cell_type": "code",
   "execution_count": null,
   "id": "daba488b",
   "metadata": {},
   "outputs": [],
   "source": [
    "testimage = cv2.resize(cv2.imread('D:/Minor Project/Dataset/Test/img011-024.png', 0), (32, 32))\n",
    "testSample = pca.transform([(testimage/255).flatten()])\n",
    "plt.title('Predicted : '+decode[int(random_forest.predict(testSample))]+'\\nActual : A')\n",
    "plt.imshow(testimage, cmap='gray')"
   ]
  },
  {
   "cell_type": "code",
   "execution_count": null,
   "id": "04ededf5",
   "metadata": {},
   "outputs": [],
   "source": [
    "testimage = cv2.resize(cv2.imread('D:/Minor Project/Dataset/Test/img014-012.png', 0), (32, 32))\n",
    "testSample = pca.transform([(testimage/255).flatten()])\n",
    "plt.title('Predicted : '+decode[int(random_forest.predict(testSample))]+'\\nActual : D')\n",
    "plt.imshow(testimage, cmap='gray')"
   ]
  },
  {
   "cell_type": "code",
   "execution_count": null,
   "id": "9525c667",
   "metadata": {},
   "outputs": [],
   "source": [
    "testimage = cv2.resize(cv2.imread('D:/Minor Project/Dataset/Test/img015-017.png', 0), (32, 32))\n",
    "testSample = pca.transform([(testimage/255).flatten()])\n",
    "plt.title('Predicted : '+decode[int(random_forest.predict(testSample))]+'\\nActual : E')\n",
    "plt.imshow(testimage, cmap='gray')"
   ]
  },
  {
   "cell_type": "code",
   "execution_count": null,
   "id": "62e56c81",
   "metadata": {},
   "outputs": [],
   "source": [
    "testimage = cv2.resize(cv2.imread('D:/Minor Project/Dataset/Test/img016-049.png', 0), (32, 32))\n",
    "testSample = pca.transform([(testimage/255).flatten()])\n",
    "plt.title('Predicted : '+decode[int(random_forest.predict(testSample))]+'\\nActual : F')\n",
    "plt.imshow(testimage, cmap='gray')"
   ]
  },
  {
   "cell_type": "code",
   "execution_count": null,
   "id": "07ff5608",
   "metadata": {},
   "outputs": [],
   "source": [
    "testimage = cv2.resize(cv2.imread('D:/Minor Project/Dataset/Test/img019-004.png', 0), (32, 32))\n",
    "testSample = pca.transform([(testimage/255).flatten()])\n",
    "plt.title('Predicted : '+decode[int(random_forest.predict(testSample))]+'\\nActual : I')\n",
    "plt.imshow(testimage, cmap='gray')"
   ]
  },
  {
   "cell_type": "code",
   "execution_count": null,
   "id": "64234766",
   "metadata": {},
   "outputs": [],
   "source": [
    "testimage = cv2.resize(cv2.imread('D:/Minor Project/Dataset/Test/img019-005.png', 0), (32, 32))\n",
    "testSample = pca.transform([(testimage/255).flatten()])\n",
    "plt.title('Predicted : '+decode[int(random_forest.predict(testSample))]+'\\nActual : I')\n",
    "plt.imshow(testimage, cmap='gray')"
   ]
  },
  {
   "cell_type": "code",
   "execution_count": null,
   "id": "1d187f7a",
   "metadata": {},
   "outputs": [],
   "source": [
    "testimage = cv2.resize(cv2.imread('D:/Minor Project/Dataset/Test/img022-011.png', 0), (32, 32))\n",
    "testSample = pca.transform([(testimage/255).flatten()])\n",
    "plt.title('Predicted : '+decode[int(random_forest.predict(testSample))]+'\\nActual : L')\n",
    "plt.imshow(testimage, cmap='gray')"
   ]
  },
  {
   "cell_type": "code",
   "execution_count": null,
   "id": "6ac2aa9a",
   "metadata": {},
   "outputs": [],
   "source": [
    "testimage = cv2.resize(cv2.imread('D:/Minor Project/Dataset/Test/img026-038.png', 0), (32, 32))\n",
    "testSample = pca.transform([(testimage/255).flatten()])\n",
    "plt.title('Predicted : '+decode[int(random_forest.predict(testSample))]+'\\nActual : P')\n",
    "plt.imshow(testimage, cmap='gray')"
   ]
  },
  {
   "cell_type": "code",
   "execution_count": null,
   "id": "51c3b952",
   "metadata": {},
   "outputs": [],
   "source": [
    "testimage = cv2.resize(cv2.imread('D:/Minor Project/Dataset/Test/img027-055.png', 0), (32, 32))\n",
    "testSample = pca.transform([(testimage/255).flatten()])\n",
    "plt.title('Predicted : '+decode[int(random_forest.predict(testSample))]+'\\nActual : Q')\n",
    "plt.imshow(testimage, cmap='gray')"
   ]
  },
  {
   "cell_type": "code",
   "execution_count": null,
   "id": "ac00cfb0",
   "metadata": {},
   "outputs": [],
   "source": [
    "testimage = cv2.resize(cv2.imread('D:/Minor Project/Dataset/Test/img030-031.png', 0), (32, 32))\n",
    "testSample = pca.transform([(testimage/255).flatten()])\n",
    "plt.title('Predicted : '+decode[int(random_forest.predict(testSample))]+'\\nActual : T')\n",
    "plt.imshow(testimage, cmap='gray')"
   ]
  },
  {
   "cell_type": "code",
   "execution_count": null,
   "id": "99efa906",
   "metadata": {},
   "outputs": [],
   "source": [
    "testimage = cv2.resize(cv2.imread('D:/Minor Project/Dataset/Test/img032-039.png', 0), (32, 32))\n",
    "testSample = pca.transform([(testimage/255).flatten()])\n",
    "plt.title('Predicted : '+decode[int(random_forest.predict(testSample))]+'\\nActual : V')\n",
    "plt.imshow(testimage, cmap='gray')"
   ]
  },
  {
   "cell_type": "code",
   "execution_count": null,
   "id": "a98f8f9f",
   "metadata": {},
   "outputs": [],
   "source": [
    "labeldatapred = random_forest.predict(chardata)"
   ]
  },
  {
   "cell_type": "code",
   "execution_count": null,
   "id": "bd1f76cd",
   "metadata": {},
   "outputs": [],
   "source": [
    "from sklearn.metrics import classification_report\n",
    "print(classification_report(labeldata, labeldatapred))"
   ]
  },
  {
   "cell_type": "code",
   "execution_count": null,
   "id": "17a08f4f",
   "metadata": {},
   "outputs": [],
   "source": [
    "import joblib"
   ]
  },
  {
   "cell_type": "code",
   "execution_count": null,
   "id": "ad718673",
   "metadata": {},
   "outputs": [],
   "source": [
    "file = \"RF_model.joblib\"\n",
    "joblib.dump(random_forest, file)\n",
    "file1 = 'Log_model.joblib'\n",
    "joblib.dump(log_model, file1)"
   ]
  },
  {
   "cell_type": "code",
   "execution_count": null,
   "id": "d306212a",
   "metadata": {},
   "outputs": [],
   "source": [
    "loaded_model = joblib.load('RF_model.joblib')\n",
    "result = loaded_model.score(chardata, labeldata)\n",
    "print(result)"
   ]
  },
  {
   "cell_type": "code",
   "execution_count": null,
   "id": "9fe1823a",
   "metadata": {},
   "outputs": [],
   "source": []
  }
 ],
 "metadata": {
  "kernelspec": {
   "display_name": "Python 3 (ipykernel)",
   "language": "python",
   "name": "python3"
  },
  "language_info": {
   "codemirror_mode": {
    "name": "ipython",
    "version": 3
   },
   "file_extension": ".py",
   "mimetype": "text/x-python",
   "name": "python",
   "nbconvert_exporter": "python",
   "pygments_lexer": "ipython3",
   "version": "3.8.0"
  }
 },
 "nbformat": 4,
 "nbformat_minor": 5
}
